{
 "cells": [
  {
   "cell_type": "code",
   "execution_count": 1,
   "metadata": {},
   "outputs": [
    {
     "name": "stderr",
     "output_type": "stream",
     "text": [
      "Building prefix dict from the default dictionary ...\n",
      "Loading model from cache C:\\Users\\18707\\AppData\\Local\\Temp\\jieba.cache\n",
      "Loading model cost 0.682 seconds.\n",
      "Prefix dict has been built successfully.\n"
     ]
    }
   ],
   "source": [
    "import sys\n",
    "sys.path.append('..')\n",
    "from data_preprocess import *\n",
    "from feature_extract import *\n",
    "from utils import load_data\n",
    "from match_func import *"
   ]
  },
  {
   "cell_type": "code",
   "execution_count": 2,
   "metadata": {},
   "outputs": [],
   "source": [
    "import os\n",
    "path0=os.path.abspath(os.path.dirname(os.getcwd()))\n",
    "path = path0 +'/data/info_dataset/'\n",
    "path1 = path0+'/data/'"
   ]
  },
  {
   "cell_type": "code",
   "execution_count": 3,
   "metadata": {},
   "outputs": [],
   "source": [
    "train_data, valid_data, test_data =load_data(path1)\n",
    "del train_data['Unnamed: 0']\n",
    "del valid_data['Unnamed: 0']\n",
    "del test_data['Unnamed: 0']"
   ]
  },
  {
   "cell_type": "code",
   "execution_count": 4,
   "metadata": {
    "scrolled": true
   },
   "outputs": [
    {
     "name": "stdout",
     "output_type": "stream",
     "text": [
      "开始处理\n",
      "求职者文本内容处理完毕\n",
      "投递意向文本内容处理完毕\n",
      "工作经历文本内容处理完毕\n",
      "证书文本内容处理完毕\n",
      "项目经历文本内容处理完毕\n",
      "岗位文本内容处理完毕\n",
      "1 (106065, 4)\n",
      "2 (106065, 5)\n",
      "3 (106065, 6)\n",
      "4 (106065, 7)\n",
      "5 (106065, 8)\n",
      "6 (106065, 9)\n",
      "处理完毕\n"
     ]
    }
   ],
   "source": [
    "data = pd.concat([train_data,valid_data,test_data], ignore_index=True)\n",
    "data = text_concat(path, data)"
   ]
  },
  {
   "cell_type": "code",
   "execution_count": 5,
   "metadata": {},
   "outputs": [
    {
     "data": {
      "text/plain": [
       "array(['男0v0120v0大专0v0nan0v0340v0品质/质检0v0nan0v0深圳市0v0外语语种： 语    外语水平： 一般 ************ ******0v01.对五金的C机加,冲压、数冲/折弯/焊接/研磨、拉丝/涂装/装配，等各制程的工艺流程，品质的管理和改善提高熟悉。2.熟悉塑胶的成型/二次加工，对其品质管理,分析改善有一定的经验。3.熟悉光电类的光纤连接线和适配器的生产工艺和质量的管控熟悉。 4.现场的7S管理，员工的培训/考核以及执行力与凝聚力的加强有一定的经验。5.熟悉ISO****质量管理体系和相关品质管理工具,如QC七大手法, 8D等。6.能独立编写品质手册以及相关程序文件，能制做相关多媒体科教资料。7.有组织内审，接洽顾客审厂、第三方审核的经验。0v0'],\n",
       "      dtype=object)"
      ]
     },
     "execution_count": 5,
     "metadata": {},
     "output_type": "execute_result"
    }
   ],
   "source": [
    "data[:1][\"求职者文本内容\"].values"
   ]
  },
  {
   "cell_type": "code",
   "execution_count": 6,
   "metadata": {
    "scrolled": true
   },
   "outputs": [
    {
     "data": {
      "text/plain": [
       "(106065, 9)"
      ]
     },
     "execution_count": 6,
     "metadata": {},
     "output_type": "execute_result"
    }
   ],
   "source": [
    "data.shape"
   ]
  },
  {
   "cell_type": "code",
   "execution_count": 9,
   "metadata": {},
   "outputs": [
    {
     "data": {
      "text/html": [
       "<div>\n",
       "<style scoped>\n",
       "    .dataframe tbody tr th:only-of-type {\n",
       "        vertical-align: middle;\n",
       "    }\n",
       "\n",
       "    .dataframe tbody tr th {\n",
       "        vertical-align: top;\n",
       "    }\n",
       "\n",
       "    .dataframe thead th {\n",
       "        text-align: right;\n",
       "    }\n",
       "</style>\n",
       "<table border=\"1\" class=\"dataframe\">\n",
       "  <thead>\n",
       "    <tr style=\"text-align: right;\">\n",
       "      <th></th>\n",
       "      <th>岗位编号</th>\n",
       "      <th>求职者编号</th>\n",
       "      <th>标签</th>\n",
       "      <th>求职者文本内容</th>\n",
       "      <th>投递意向文本内容</th>\n",
       "      <th>工作经历文本内容</th>\n",
       "      <th>证书文本内容</th>\n",
       "      <th>项目经历文本内容</th>\n",
       "      <th>岗位文本内容</th>\n",
       "    </tr>\n",
       "  </thead>\n",
       "  <tbody>\n",
       "    <tr>\n",
       "      <th>0</th>\n",
       "      <td>775040</td>\n",
       "      <td>5969825</td>\n",
       "      <td>0</td>\n",
       "      <td>男0v0120v0大专0v0nan0v0340v0品质/质检0v0nan0v0深圳市0v0外...</td>\n",
       "      <td>一直以来，以以身作则，不断进取的心态去面对工作和生活，在带给别人快乐和收获的同时，也陶冶，充...</td>\n",
       "      <td>品质/质检0v0nan0v0五金矿产行业0v0****公司生产电脑主机箱及其周边硬件设备,主...</td>\n",
       "      <td>ISO体系内审员/注册审核员0v0nan0v0</td>\n",
       "      <td>NaN</td>\n",
       "      <td>2.00v0社会无职0v0IPQC/组长0v0nan0v0高中（职高、技校）0v0深圳市0v...</td>\n",
       "    </tr>\n",
       "    <tr>\n",
       "      <th>1</th>\n",
       "      <td>815337</td>\n",
       "      <td>6212884</td>\n",
       "      <td>0</td>\n",
       "      <td>女0v0140v0中专0v0会计学0v0360v0出纳 0v0医药销售行业0v0深圳市0v0...</td>\n",
       "      <td>为人诚实谦虚,工作踏实认真,有独立工作能力以团队协作的能力,良好的沟通协调能力.已婚,有小孩...</td>\n",
       "      <td>出纳 0v0福田区0v0nan0v0nan0v0///出纳 0v0福田区0v0nan0v0属...</td>\n",
       "      <td>会计上岗证0v0nan0v0///会计电算化证书0v0nan0v0</td>\n",
       "      <td>NaN</td>\n",
       "      <td>2.00v0社会无职0v0销售员0v0电子材料与元器件0v0高中（职高、技校）0v0福田区0...</td>\n",
       "    </tr>\n",
       "    <tr>\n",
       "      <th>2</th>\n",
       "      <td>770107</td>\n",
       "      <td>5451198</td>\n",
       "      <td>0</td>\n",
       "      <td>男0v000v0中专0v0电路与系统0v0350v0电子技术0v0房地产开发行业0v0深圳市...</td>\n",
       "      <td>诚实可靠 能吃苦 做事尽职尽责 0v0电子技术0v0深圳市0v0电子行业0v07.00v0n...</td>\n",
       "      <td>电子技术0v0宝安区0v0电子行业0v0我的工作是负责调试，维修。出差帮客户安装，维修。我的...</td>\n",
       "      <td>NaN</td>\n",
       "      <td>NaN</td>\n",
       "      <td>2.00v0社会无职0v0维修技术员0v0微电子学0v0中专0v0南山区0v00至1年0v0...</td>\n",
       "    </tr>\n",
       "    <tr>\n",
       "      <th>3</th>\n",
       "      <td>43795661</td>\n",
       "      <td>320873919</td>\n",
       "      <td>1</td>\n",
       "      <td>女0v060v0大专0v0国际经济与贸易0v0290v0国际贸易/涉外业务0v0物流业0v0...</td>\n",
       "      <td>本人工作认真，即使极细小的工作也会亲自去做好；性格开朗，待人诚恳，具有良好的涉交能力；专业技...</td>\n",
       "      <td>国际贸易/涉外业务0v0福田区0v0商业零售行业0v0nan0v0</td>\n",
       "      <td>NaN</td>\n",
       "      <td>NaN</td>\n",
       "      <td>1.00v0社会在职0v0外贸跟单0v0nan0v0大专0v0深圳市0v00至1年0v0女，...</td>\n",
       "    </tr>\n",
       "    <tr>\n",
       "      <th>4</th>\n",
       "      <td>798922</td>\n",
       "      <td>5650936</td>\n",
       "      <td>0</td>\n",
       "      <td>女0v080v0大学本科0v0nan0v0300v0人力资源管理0v0通讯行业0v0珠海市0...</td>\n",
       "      <td>具有较强责任心，人际关系良好，能吃苦耐劳；曾担任校生活部干事，负责部门宣传工作和文案策划；有...</td>\n",
       "      <td>人力资源管理0v0nan0v0生活服务0v0会议纪要的整理、打印以及发放会议记录整理以及安全...</td>\n",
       "      <td>NaN</td>\n",
       "      <td>NaN</td>\n",
       "      <td>nan0v0nan0v0文员0v0【工商管理】0v0大专0v0深圳市0v0应届毕业生0v0熟...</td>\n",
       "    </tr>\n",
       "  </tbody>\n",
       "</table>\n",
       "</div>"
      ],
      "text/plain": [
       "       岗位编号      求职者编号  标签                                            求职者文本内容  \\\n",
       "0    775040    5969825   0  男0v0120v0大专0v0nan0v0340v0品质/质检0v0nan0v0深圳市0v0外...   \n",
       "1    815337    6212884   0  女0v0140v0中专0v0会计学0v0360v0出纳 0v0医药销售行业0v0深圳市0v0...   \n",
       "2    770107    5451198   0  男0v000v0中专0v0电路与系统0v0350v0电子技术0v0房地产开发行业0v0深圳市...   \n",
       "3  43795661  320873919   1  女0v060v0大专0v0国际经济与贸易0v0290v0国际贸易/涉外业务0v0物流业0v0...   \n",
       "4    798922    5650936   0  女0v080v0大学本科0v0nan0v0300v0人力资源管理0v0通讯行业0v0珠海市0...   \n",
       "\n",
       "                                            投递意向文本内容  \\\n",
       "0  一直以来，以以身作则，不断进取的心态去面对工作和生活，在带给别人快乐和收获的同时，也陶冶，充...   \n",
       "1  为人诚实谦虚,工作踏实认真,有独立工作能力以团队协作的能力,良好的沟通协调能力.已婚,有小孩...   \n",
       "2  诚实可靠 能吃苦 做事尽职尽责 0v0电子技术0v0深圳市0v0电子行业0v07.00v0n...   \n",
       "3  本人工作认真，即使极细小的工作也会亲自去做好；性格开朗，待人诚恳，具有良好的涉交能力；专业技...   \n",
       "4  具有较强责任心，人际关系良好，能吃苦耐劳；曾担任校生活部干事，负责部门宣传工作和文案策划；有...   \n",
       "\n",
       "                                            工作经历文本内容  \\\n",
       "0  品质/质检0v0nan0v0五金矿产行业0v0****公司生产电脑主机箱及其周边硬件设备,主...   \n",
       "1  出纳 0v0福田区0v0nan0v0nan0v0///出纳 0v0福田区0v0nan0v0属...   \n",
       "2  电子技术0v0宝安区0v0电子行业0v0我的工作是负责调试，维修。出差帮客户安装，维修。我的...   \n",
       "3                  国际贸易/涉外业务0v0福田区0v0商业零售行业0v0nan0v0   \n",
       "4  人力资源管理0v0nan0v0生活服务0v0会议纪要的整理、打印以及发放会议记录整理以及安全...   \n",
       "\n",
       "                              证书文本内容 项目经历文本内容  \\\n",
       "0            ISO体系内审员/注册审核员0v0nan0v0      NaN   \n",
       "1  会计上岗证0v0nan0v0///会计电算化证书0v0nan0v0      NaN   \n",
       "2                                NaN      NaN   \n",
       "3                                NaN      NaN   \n",
       "4                                NaN      NaN   \n",
       "\n",
       "                                              岗位文本内容  \n",
       "0  2.00v0社会无职0v0IPQC/组长0v0nan0v0高中（职高、技校）0v0深圳市0v...  \n",
       "1  2.00v0社会无职0v0销售员0v0电子材料与元器件0v0高中（职高、技校）0v0福田区0...  \n",
       "2  2.00v0社会无职0v0维修技术员0v0微电子学0v0中专0v0南山区0v00至1年0v0...  \n",
       "3  1.00v0社会在职0v0外贸跟单0v0nan0v0大专0v0深圳市0v00至1年0v0女，...  \n",
       "4  nan0v0nan0v0文员0v0【工商管理】0v0大专0v0深圳市0v0应届毕业生0v0熟...  "
      ]
     },
     "execution_count": 9,
     "metadata": {},
     "output_type": "execute_result"
    }
   ],
   "source": [
    "data.head()"
   ]
  },
  {
   "cell_type": "code",
   "execution_count": 40,
   "metadata": {},
   "outputs": [
    {
     "data": {
      "text/plain": [
       "count    106065.000000\n",
       "mean        121.987102\n",
       "std         104.485007\n",
       "min          21.000000\n",
       "25%          47.000000\n",
       "50%          89.000000\n",
       "75%         163.000000\n",
       "max        1332.000000\n",
       "Name: 求职者文本内容, dtype: float64"
      ]
     },
     "execution_count": 40,
     "metadata": {},
     "output_type": "execute_result"
    }
   ],
   "source": [
    "data[\"求职者文本内容\"] =data[\"求职者文本内容\"].apply(lambda x: ''.join(x.split(\"0v0\")))\n",
    "\n",
    "data[\"求职者文本内容\"].apply(lambda x: len(x)).describe()"
   ]
  },
  {
   "cell_type": "code",
   "execution_count": 43,
   "metadata": {},
   "outputs": [
    {
     "data": {
      "text/plain": [
       "count    106065.000000\n",
       "mean        269.565399\n",
       "std         272.034994\n",
       "min           3.000000\n",
       "25%          77.000000\n",
       "50%         203.000000\n",
       "75%         376.000000\n",
       "max       10127.000000\n",
       "Name: 工作经历文本内容, dtype: float64"
      ]
     },
     "execution_count": 43,
     "metadata": {},
     "output_type": "execute_result"
    }
   ],
   "source": [
    "data[\"工作经历文本内容\"] =data[\"工作经历文本内容\"].apply(lambda x: ''.join(str(x).split(\"0v0\")))\n",
    "\n",
    "data[\"工作经历文本内容\"].apply(lambda x: len(x)).describe()"
   ]
  },
  {
   "cell_type": "code",
   "execution_count": 44,
   "metadata": {},
   "outputs": [
    {
     "data": {
      "text/plain": [
       "count    106065.000000\n",
       "mean          6.767982\n",
       "std          16.710991\n",
       "min           3.000000\n",
       "25%           3.000000\n",
       "50%           3.000000\n",
       "75%           3.000000\n",
       "max         553.000000\n",
       "Name: 证书文本内容, dtype: float64"
      ]
     },
     "execution_count": 44,
     "metadata": {},
     "output_type": "execute_result"
    }
   ],
   "source": [
    "data[\"证书文本内容\"] =data[\"证书文本内容\"].apply(lambda x: ''.join(str(x).split(\"0v0\")))\n",
    "\n",
    "data[\"证书文本内容\"].apply(lambda x: len(x)).describe()"
   ]
  },
  {
   "cell_type": "code",
   "execution_count": 45,
   "metadata": {},
   "outputs": [
    {
     "data": {
      "text/plain": [
       "count    106065.000000\n",
       "mean         12.065234\n",
       "std          79.618195\n",
       "min           3.000000\n",
       "25%           3.000000\n",
       "50%           3.000000\n",
       "75%           3.000000\n",
       "max        4882.000000\n",
       "Name: 项目经历文本内容, dtype: float64"
      ]
     },
     "execution_count": 45,
     "metadata": {},
     "output_type": "execute_result"
    }
   ],
   "source": [
    "data[\"项目经历文本内容\"] =data[\"项目经历文本内容\"].apply(lambda x: ''.join(str(x).split(\"0v0\")))\n",
    "\n",
    "data[\"项目经历文本内容\"].apply(lambda x: len(x)).describe()"
   ]
  },
  {
   "cell_type": "code",
   "execution_count": 46,
   "metadata": {},
   "outputs": [
    {
     "data": {
      "text/plain": [
       "count    106065.000000\n",
       "mean        113.417376\n",
       "std          75.636023\n",
       "min          23.000000\n",
       "25%          65.000000\n",
       "50%          93.000000\n",
       "75%         140.000000\n",
       "max        1068.000000\n",
       "Name: 岗位文本内容, dtype: float64"
      ]
     },
     "execution_count": 46,
     "metadata": {},
     "output_type": "execute_result"
    }
   ],
   "source": [
    "data[\"岗位文本内容\"] =data[\"岗位文本内容\"].apply(lambda x: ''.join(str(x).split(\"0v0\")))\n",
    "\n",
    "data[\"岗位文本内容\"].apply(lambda x: len(x)).describe()"
   ]
  },
  {
   "cell_type": "code",
   "execution_count": 11,
   "metadata": {},
   "outputs": [
    {
     "data": {
      "text/html": [
       "<div>\n",
       "<style scoped>\n",
       "    .dataframe tbody tr th:only-of-type {\n",
       "        vertical-align: middle;\n",
       "    }\n",
       "\n",
       "    .dataframe tbody tr th {\n",
       "        vertical-align: top;\n",
       "    }\n",
       "\n",
       "    .dataframe thead th {\n",
       "        text-align: right;\n",
       "    }\n",
       "</style>\n",
       "<table border=\"1\" class=\"dataframe\">\n",
       "  <thead>\n",
       "    <tr style=\"text-align: right;\">\n",
       "      <th></th>\n",
       "      <th>岗位编号</th>\n",
       "      <th>求职者编号</th>\n",
       "      <th>标签</th>\n",
       "      <th>求职者文本内容</th>\n",
       "      <th>投递意向文本内容</th>\n",
       "      <th>工作经历文本内容</th>\n",
       "      <th>证书文本内容</th>\n",
       "      <th>项目经历文本内容</th>\n",
       "      <th>岗位文本内容</th>\n",
       "    </tr>\n",
       "  </thead>\n",
       "  <tbody>\n",
       "    <tr>\n",
       "      <th>0</th>\n",
       "      <td>775040</td>\n",
       "      <td>5969825</td>\n",
       "      <td>0</td>\n",
       "      <td>男0v0120v0大专0v0nan0v0340v0品质/质检0v0nan0v0深圳市0v0外...</td>\n",
       "      <td>一直以来，以以身作则，不断进取的心态去面对工作和生活，在带给别人快乐和收获的同时，也陶冶，充...</td>\n",
       "      <td>品质/质检0v0nan0v0五金矿产行业0v0****公司生产电脑主机箱及其周边硬件设备,主...</td>\n",
       "      <td>ISO体系内审员/注册审核员0v0nan0v0</td>\n",
       "      <td>NaN</td>\n",
       "      <td>2.00v0社会无职0v0IPQC/组长0v0nan0v0高中（职高、技校）0v0深圳市0v...</td>\n",
       "    </tr>\n",
       "    <tr>\n",
       "      <th>1</th>\n",
       "      <td>815337</td>\n",
       "      <td>6212884</td>\n",
       "      <td>0</td>\n",
       "      <td>女0v0140v0中专0v0会计学0v0360v0出纳 0v0医药销售行业0v0深圳市0v0...</td>\n",
       "      <td>为人诚实谦虚,工作踏实认真,有独立工作能力以团队协作的能力,良好的沟通协调能力.已婚,有小孩...</td>\n",
       "      <td>出纳 0v0福田区0v0nan0v0nan0v0///出纳 0v0福田区0v0nan0v0属...</td>\n",
       "      <td>会计上岗证0v0nan0v0///会计电算化证书0v0nan0v0</td>\n",
       "      <td>NaN</td>\n",
       "      <td>2.00v0社会无职0v0销售员0v0电子材料与元器件0v0高中（职高、技校）0v0福田区0...</td>\n",
       "    </tr>\n",
       "    <tr>\n",
       "      <th>2</th>\n",
       "      <td>770107</td>\n",
       "      <td>5451198</td>\n",
       "      <td>0</td>\n",
       "      <td>男0v000v0中专0v0电路与系统0v0350v0电子技术0v0房地产开发行业0v0深圳市...</td>\n",
       "      <td>诚实可靠 能吃苦 做事尽职尽责 0v0电子技术0v0深圳市0v0电子行业0v07.00v0n...</td>\n",
       "      <td>电子技术0v0宝安区0v0电子行业0v0我的工作是负责调试，维修。出差帮客户安装，维修。我的...</td>\n",
       "      <td>NaN</td>\n",
       "      <td>NaN</td>\n",
       "      <td>2.00v0社会无职0v0维修技术员0v0微电子学0v0中专0v0南山区0v00至1年0v0...</td>\n",
       "    </tr>\n",
       "    <tr>\n",
       "      <th>3</th>\n",
       "      <td>43795661</td>\n",
       "      <td>320873919</td>\n",
       "      <td>1</td>\n",
       "      <td>女0v060v0大专0v0国际经济与贸易0v0290v0国际贸易/涉外业务0v0物流业0v0...</td>\n",
       "      <td>本人工作认真，即使极细小的工作也会亲自去做好；性格开朗，待人诚恳，具有良好的涉交能力；专业技...</td>\n",
       "      <td>国际贸易/涉外业务0v0福田区0v0商业零售行业0v0nan0v0</td>\n",
       "      <td>NaN</td>\n",
       "      <td>NaN</td>\n",
       "      <td>1.00v0社会在职0v0外贸跟单0v0nan0v0大专0v0深圳市0v00至1年0v0女，...</td>\n",
       "    </tr>\n",
       "    <tr>\n",
       "      <th>4</th>\n",
       "      <td>798922</td>\n",
       "      <td>5650936</td>\n",
       "      <td>0</td>\n",
       "      <td>女0v080v0大学本科0v0nan0v0300v0人力资源管理0v0通讯行业0v0珠海市0...</td>\n",
       "      <td>具有较强责任心，人际关系良好，能吃苦耐劳；曾担任校生活部干事，负责部门宣传工作和文案策划；有...</td>\n",
       "      <td>人力资源管理0v0nan0v0生活服务0v0会议纪要的整理、打印以及发放会议记录整理以及安全...</td>\n",
       "      <td>NaN</td>\n",
       "      <td>NaN</td>\n",
       "      <td>nan0v0nan0v0文员0v0【工商管理】0v0大专0v0深圳市0v0应届毕业生0v0熟...</td>\n",
       "    </tr>\n",
       "    <tr>\n",
       "      <th>...</th>\n",
       "      <td>...</td>\n",
       "      <td>...</td>\n",
       "      <td>...</td>\n",
       "      <td>...</td>\n",
       "      <td>...</td>\n",
       "      <td>...</td>\n",
       "      <td>...</td>\n",
       "      <td>...</td>\n",
       "      <td>...</td>\n",
       "    </tr>\n",
       "    <tr>\n",
       "      <th>106057</th>\n",
       "      <td>44350657</td>\n",
       "      <td>317415936</td>\n",
       "      <td>0</td>\n",
       "      <td>男0v000v0大学本科0v0电子信息工程学0v0290v0nan0v0nan0v0福田区0...</td>\n",
       "      <td>四年的大学生活，有渴望，有追求，有成功也有失败，努力锻炼，执着探索，成为一名适应社...</td>\n",
       "      <td>NaN</td>\n",
       "      <td>NaN</td>\n",
       "      <td>NaN</td>\n",
       "      <td>99.00v0不限0v0ARM嵌入式开发工程师0v0nan0v0大专0v0深圳市0v05年以...</td>\n",
       "    </tr>\n",
       "    <tr>\n",
       "      <th>106058</th>\n",
       "      <td>44350657</td>\n",
       "      <td>320437920</td>\n",
       "      <td>0</td>\n",
       "      <td>男0v000v0大学本科0v0电子信息工程学0v0280v0nan0v0nan0v0南山区0...</td>\n",
       "      <td>为人认真踏实，能够吃苦耐劳；注重细节，有责任感；以诚待人，中正平和是一直秉承的，能够与人友好...</td>\n",
       "      <td>NaN</td>\n",
       "      <td>NaN</td>\n",
       "      <td>NaN</td>\n",
       "      <td>99.00v0不限0v0ARM嵌入式开发工程师0v0nan0v0大专0v0深圳市0v05年以...</td>\n",
       "    </tr>\n",
       "    <tr>\n",
       "      <th>106061</th>\n",
       "      <td>44350657</td>\n",
       "      <td>321377962</td>\n",
       "      <td>0</td>\n",
       "      <td>男0v000v0大学本科0v0电子信息科学与技术0v0280v0nan0v0nan0v0深圳...</td>\n",
       "      <td>是一个活泼开朗、乐观向上、兴趣广泛、乐于助人、勤奋好学、脚踏实地、认真负责、吃苦...</td>\n",
       "      <td>NaN</td>\n",
       "      <td>嵌入式助理工程师0v0nan0v0</td>\n",
       "      <td>NaN</td>\n",
       "      <td>99.00v0不限0v0ARM嵌入式开发工程师0v0nan0v0大专0v0深圳市0v05年以...</td>\n",
       "    </tr>\n",
       "    <tr>\n",
       "      <th>106062</th>\n",
       "      <td>47578782</td>\n",
       "      <td>319583916</td>\n",
       "      <td>0</td>\n",
       "      <td>女0v000v0大学本科0v0电气工程及其自动化0v0280v0nan0v0nan0v0龙岗...</td>\n",
       "      <td>是一个性格开朗热爱交际的女生，有较强的自学能力和动手能力,良好的协调沟通能力，适应力强,责任...</td>\n",
       "      <td>NaN</td>\n",
       "      <td>全国计算机等级一级0v0nan0v0</td>\n",
       "      <td>NaN</td>\n",
       "      <td>1.00v0社会在职0v0总经理助理0v0nan0v0nan0v0宝安区0v05年以上0v0...</td>\n",
       "    </tr>\n",
       "    <tr>\n",
       "      <th>106063</th>\n",
       "      <td>47649893</td>\n",
       "      <td>6079047</td>\n",
       "      <td>0</td>\n",
       "      <td>男0v070v0大学本科0v0nan0v0290v0营销代表/销售顾问0v0珠宝玉石行业0v...</td>\n",
       "      <td>1：本人成熟稳重，能力强，心态稳定，能担当重任； 2：营销与管理经验丰富，接受能力强，能迅速...</td>\n",
       "      <td>实习人员0v0nan0v0医疗卫生行业0v0公司是做LED显示屏，我的工作职责主要通过各种渠...</td>\n",
       "      <td>NaN</td>\n",
       "      <td>NaN</td>\n",
       "      <td>3.00v0应届毕业0v0会计实习生0v0nan0v0nan0v0宝安区0v05年以上0v0...</td>\n",
       "    </tr>\n",
       "  </tbody>\n",
       "</table>\n",
       "<p>102745 rows × 9 columns</p>\n",
       "</div>"
      ],
      "text/plain": [
       "            岗位编号      求职者编号  标签  \\\n",
       "0         775040    5969825   0   \n",
       "1         815337    6212884   0   \n",
       "2         770107    5451198   0   \n",
       "3       43795661  320873919   1   \n",
       "4         798922    5650936   0   \n",
       "...          ...        ...  ..   \n",
       "106057  44350657  317415936   0   \n",
       "106058  44350657  320437920   0   \n",
       "106061  44350657  321377962   0   \n",
       "106062  47578782  319583916   0   \n",
       "106063  47649893    6079047   0   \n",
       "\n",
       "                                                  求职者文本内容  \\\n",
       "0       男0v0120v0大专0v0nan0v0340v0品质/质检0v0nan0v0深圳市0v0外...   \n",
       "1       女0v0140v0中专0v0会计学0v0360v0出纳 0v0医药销售行业0v0深圳市0v0...   \n",
       "2       男0v000v0中专0v0电路与系统0v0350v0电子技术0v0房地产开发行业0v0深圳市...   \n",
       "3       女0v060v0大专0v0国际经济与贸易0v0290v0国际贸易/涉外业务0v0物流业0v0...   \n",
       "4       女0v080v0大学本科0v0nan0v0300v0人力资源管理0v0通讯行业0v0珠海市0...   \n",
       "...                                                   ...   \n",
       "106057  男0v000v0大学本科0v0电子信息工程学0v0290v0nan0v0nan0v0福田区0...   \n",
       "106058  男0v000v0大学本科0v0电子信息工程学0v0280v0nan0v0nan0v0南山区0...   \n",
       "106061  男0v000v0大学本科0v0电子信息科学与技术0v0280v0nan0v0nan0v0深圳...   \n",
       "106062  女0v000v0大学本科0v0电气工程及其自动化0v0280v0nan0v0nan0v0龙岗...   \n",
       "106063  男0v070v0大学本科0v0nan0v0290v0营销代表/销售顾问0v0珠宝玉石行业0v...   \n",
       "\n",
       "                                                 投递意向文本内容  \\\n",
       "0       一直以来，以以身作则，不断进取的心态去面对工作和生活，在带给别人快乐和收获的同时，也陶冶，充...   \n",
       "1       为人诚实谦虚,工作踏实认真,有独立工作能力以团队协作的能力,良好的沟通协调能力.已婚,有小孩...   \n",
       "2       诚实可靠 能吃苦 做事尽职尽责 0v0电子技术0v0深圳市0v0电子行业0v07.00v0n...   \n",
       "3       本人工作认真，即使极细小的工作也会亲自去做好；性格开朗，待人诚恳，具有良好的涉交能力；专业技...   \n",
       "4       具有较强责任心，人际关系良好，能吃苦耐劳；曾担任校生活部干事，负责部门宣传工作和文案策划；有...   \n",
       "...                                                   ...   \n",
       "106057       四年的大学生活，有渴望，有追求，有成功也有失败，努力锻炼，执着探索，成为一名适应社...   \n",
       "106058  为人认真踏实，能够吃苦耐劳；注重细节，有责任感；以诚待人，中正平和是一直秉承的，能够与人友好...   \n",
       "106061        是一个活泼开朗、乐观向上、兴趣广泛、乐于助人、勤奋好学、脚踏实地、认真负责、吃苦...   \n",
       "106062  是一个性格开朗热爱交际的女生，有较强的自学能力和动手能力,良好的协调沟通能力，适应力强,责任...   \n",
       "106063  1：本人成熟稳重，能力强，心态稳定，能担当重任； 2：营销与管理经验丰富，接受能力强，能迅速...   \n",
       "\n",
       "                                                 工作经历文本内容  \\\n",
       "0       品质/质检0v0nan0v0五金矿产行业0v0****公司生产电脑主机箱及其周边硬件设备,主...   \n",
       "1       出纳 0v0福田区0v0nan0v0nan0v0///出纳 0v0福田区0v0nan0v0属...   \n",
       "2       电子技术0v0宝安区0v0电子行业0v0我的工作是负责调试，维修。出差帮客户安装，维修。我的...   \n",
       "3                       国际贸易/涉外业务0v0福田区0v0商业零售行业0v0nan0v0   \n",
       "4       人力资源管理0v0nan0v0生活服务0v0会议纪要的整理、打印以及发放会议记录整理以及安全...   \n",
       "...                                                   ...   \n",
       "106057                                                NaN   \n",
       "106058                                                NaN   \n",
       "106061                                                NaN   \n",
       "106062                                                NaN   \n",
       "106063  实习人员0v0nan0v0医疗卫生行业0v0公司是做LED显示屏，我的工作职责主要通过各种渠...   \n",
       "\n",
       "                                   证书文本内容 项目经历文本内容  \\\n",
       "0                 ISO体系内审员/注册审核员0v0nan0v0      NaN   \n",
       "1       会计上岗证0v0nan0v0///会计电算化证书0v0nan0v0      NaN   \n",
       "2                                     NaN      NaN   \n",
       "3                                     NaN      NaN   \n",
       "4                                     NaN      NaN   \n",
       "...                                   ...      ...   \n",
       "106057                                NaN      NaN   \n",
       "106058                                NaN      NaN   \n",
       "106061                  嵌入式助理工程师0v0nan0v0      NaN   \n",
       "106062                 全国计算机等级一级0v0nan0v0      NaN   \n",
       "106063                                NaN      NaN   \n",
       "\n",
       "                                                   岗位文本内容  \n",
       "0       2.00v0社会无职0v0IPQC/组长0v0nan0v0高中（职高、技校）0v0深圳市0v...  \n",
       "1       2.00v0社会无职0v0销售员0v0电子材料与元器件0v0高中（职高、技校）0v0福田区0...  \n",
       "2       2.00v0社会无职0v0维修技术员0v0微电子学0v0中专0v0南山区0v00至1年0v0...  \n",
       "3       1.00v0社会在职0v0外贸跟单0v0nan0v0大专0v0深圳市0v00至1年0v0女，...  \n",
       "4       nan0v0nan0v0文员0v0【工商管理】0v0大专0v0深圳市0v0应届毕业生0v0熟...  \n",
       "...                                                   ...  \n",
       "106057  99.00v0不限0v0ARM嵌入式开发工程师0v0nan0v0大专0v0深圳市0v05年以...  \n",
       "106058  99.00v0不限0v0ARM嵌入式开发工程师0v0nan0v0大专0v0深圳市0v05年以...  \n",
       "106061  99.00v0不限0v0ARM嵌入式开发工程师0v0nan0v0大专0v0深圳市0v05年以...  \n",
       "106062  1.00v0社会在职0v0总经理助理0v0nan0v0nan0v0宝安区0v05年以上0v0...  \n",
       "106063  3.00v0应届毕业0v0会计实习生0v0nan0v0nan0v0宝安区0v05年以上0v0...  \n",
       "\n",
       "[102745 rows x 9 columns]"
      ]
     },
     "execution_count": 11,
     "metadata": {},
     "output_type": "execute_result"
    }
   ],
   "source": [
    "data[data.项目经历文本内容.apply(lambda x:True if pd.isnull(x) else False)]"
   ]
  },
  {
   "cell_type": "code",
   "execution_count": 28,
   "metadata": {},
   "outputs": [
    {
     "data": {
      "text/plain": [
       "0    2662\n",
       "1     338\n",
       "Name: 标签, dtype: int64"
      ]
     },
     "execution_count": 28,
     "metadata": {},
     "output_type": "execute_result"
    }
   ],
   "source": [
    "data[:-test_data.shape[0]][data[:-test_data.shape[0]].工作经历文本内容.apply(lambda x:True if pd.isnull(x) else False)].标签.value_counts()"
   ]
  },
  {
   "cell_type": "code",
   "execution_count": 31,
   "metadata": {},
   "outputs": [
    {
     "data": {
      "text/plain": [
       "0    29670\n",
       "1     5621\n",
       "Name: 标签, dtype: int64"
      ]
     },
     "execution_count": 31,
     "metadata": {},
     "output_type": "execute_result"
    }
   ],
   "source": [
    "data[:-test_data.shape[0]].标签.value_counts()"
   ]
  },
  {
   "cell_type": "code",
   "execution_count": 30,
   "metadata": {},
   "outputs": [
    {
     "data": {
      "text/plain": [
       "0.11418918918918919"
      ]
     },
     "execution_count": 30,
     "metadata": {},
     "output_type": "execute_result"
    }
   ],
   "source": [
    "338/(338+2622)"
   ]
  },
  {
   "cell_type": "code",
   "execution_count": 33,
   "metadata": {},
   "outputs": [
    {
     "data": {
      "text/plain": [
       "0.15927573602334874"
      ]
     },
     "execution_count": 33,
     "metadata": {},
     "output_type": "execute_result"
    }
   ],
   "source": [
    "5621/(29670+5621)"
   ]
  },
  {
   "cell_type": "code",
   "execution_count": 12,
   "metadata": {},
   "outputs": [],
   "source": [
    "data.to_csv(r'text_data.csv')"
   ]
  },
  {
   "cell_type": "code",
   "execution_count": 13,
   "metadata": {},
   "outputs": [],
   "source": [
    "train_data = data[:train_data.shape[0]]#.标签.value_counts()\n",
    "valid_data = data[train_data.shape[0]:train_data.shape[0]+valid_data.shape[0]]\n",
    "test_data = data[train_data.shape[0]+valid_data.shape[0]:]"
   ]
  },
  {
   "cell_type": "code",
   "execution_count": 16,
   "metadata": {},
   "outputs": [
    {
     "data": {
      "text/plain": [
       "((28232, 9), (7059, 9), (70774, 9))"
      ]
     },
     "execution_count": 16,
     "metadata": {},
     "output_type": "execute_result"
    }
   ],
   "source": [
    "train_data.shape,valid_data.shape,test_data.shape"
   ]
  },
  {
   "cell_type": "code",
   "execution_count": 17,
   "metadata": {},
   "outputs": [],
   "source": [
    "train_data.to_csv(r'train_txt_data.csv')\n",
    "valid_data.to_csv(r'valid_txt_data.csv')\n",
    "test_data.to_csv(r'test_txt_data.csv')"
   ]
  },
  {
   "cell_type": "code",
   "execution_count": null,
   "metadata": {},
   "outputs": [],
   "source": []
  }
 ],
 "metadata": {
  "kernelspec": {
   "display_name": "Python 3",
   "language": "python",
   "name": "python3"
  },
  "language_info": {
   "codemirror_mode": {
    "name": "ipython",
    "version": 3
   },
   "file_extension": ".py",
   "mimetype": "text/x-python",
   "name": "python",
   "nbconvert_exporter": "python",
   "pygments_lexer": "ipython3",
   "version": "3.6.1"
  }
 },
 "nbformat": 4,
 "nbformat_minor": 4
}
