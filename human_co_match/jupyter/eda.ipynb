{
 "cells": [
  {
   "cell_type": "code",
   "execution_count": 1,
   "metadata": {},
   "outputs": [],
   "source": [
    "import numpy as np\n",
    "import pandas as pd\n",
    "import random\n",
    "import sklearn"
   ]
  },
  {
   "cell_type": "code",
   "execution_count": 2,
   "metadata": {},
   "outputs": [],
   "source": [
    "import sys\n",
    "sys.path.append('..')"
   ]
  },
  {
   "cell_type": "code",
   "execution_count": 3,
   "metadata": {},
   "outputs": [],
   "source": [
    "from feature_extract import person_feature,person_intent,work_history,certificate,project_history,job_table,diliver_current,match_current,get_data,get_k_fold_data,feature_process\n",
    "from utils import load_data\n",
    "from models.lgb_model import lgb_model_for_upload,lgb_model_for_offline_test"
   ]
  },
  {
   "cell_type": "code",
   "execution_count": 4,
   "metadata": {},
   "outputs": [],
   "source": [
    "import os\n",
    "path0=os.path.abspath(os.path.dirname(os.getcwd()))\n",
    "path = path0 +'/data/info_dataset/'\n",
    "path1 = path0+'/data/'"
   ]
  },
  {
   "cell_type": "code",
   "execution_count": 5,
   "metadata": {},
   "outputs": [],
   "source": [
    "# get feature"
   ]
  },
  {
   "cell_type": "code",
   "execution_count": 6,
   "metadata": {},
   "outputs": [],
   "source": [
    "person =person_feature(path)\n",
    "intent_table = person_intent(path)\n",
    "work_history, work_history_table = work_history(path)\n",
    "cert_table = certificate(path)\n",
    "project_history, project_history_table = project_history(path)\n",
    "job_table = job_table(path)"
   ]
  },
  {
   "cell_type": "code",
   "execution_count": 7,
   "metadata": {},
   "outputs": [],
   "source": [
    "# load data\n",
    "train_data, valid_data, test_data =load_data(path1)"
   ]
  },
  {
   "cell_type": "code",
   "execution_count": 8,
   "metadata": {},
   "outputs": [],
   "source": [
    "data_all = pd.concat([train_data,valid_data,test_data], ignore_index=True)\n",
    "candidate_data, job_data = diliver_current(data_all)"
   ]
  },
  {
   "cell_type": "markdown",
   "metadata": {},
   "source": [
    "## offline"
   ]
  },
  {
   "cell_type": "code",
   "execution_count": 9,
   "metadata": {},
   "outputs": [],
   "source": [
    "train=get_k_fold_data(train_data,person,intent_table,job_table,project_history_table,work_history_table,candidate_data,job_data)\n",
    "valid = get_data(valid_data, train,person,intent_table,job_table,project_history_table,work_history_table,candidate_data,job_data)\n",
    "test = get_data(test_data, train,person,intent_table,job_table,project_history_table,work_history_table,candidate_data,job_data)"
   ]
  },
  {
   "cell_type": "code",
   "execution_count": 10,
   "metadata": {},
   "outputs": [
    {
     "data": {
      "text/plain": [
       "((28232, 24), (7059, 24), (70774, 24))"
      ]
     },
     "execution_count": 10,
     "metadata": {},
     "output_type": "execute_result"
    }
   ],
   "source": [
    "train.shape,valid.shape,test.shape"
   ]
  },
  {
   "cell_type": "code",
   "execution_count": 11,
   "metadata": {},
   "outputs": [],
   "source": [
    "temp_data= pd.concat([train,valid, test], ignore_index=True)"
   ]
  },
  {
   "cell_type": "code",
   "execution_count": 12,
   "metadata": {
    "scrolled": true
   },
   "outputs": [],
   "source": [
    "data_all_feature=feature_process(temp_data)"
   ]
  },
  {
   "cell_type": "code",
   "execution_count": 13,
   "metadata": {},
   "outputs": [],
   "source": [
    "train0 = data_all_feature[:train.shape[0]]#.标签.value_counts()\n",
    "valid0 = data_all_feature[train.shape[0]:train.shape[0]+valid.shape[0]]\n",
    "test0 = data_all_feature[train.shape[0]+valid.shape[0]:]\n",
    "train_label = train0[train0.columns[-1]]\n",
    "valid_label = valid0[valid0.columns[-1]]\n",
    "train=train0[train0.columns[:-3]]\n",
    "valid=valid0[valid0.columns[:-3]]\n"
   ]
  },
  {
   "cell_type": "code",
   "execution_count": 14,
   "metadata": {},
   "outputs": [
    {
     "data": {
      "text/plain": [
       "((28232, 454), (7059, 454), (70774, 457))"
      ]
     },
     "execution_count": 14,
     "metadata": {},
     "output_type": "execute_result"
    }
   ],
   "source": [
    "train.shape,valid.shape,test0.shape"
   ]
  },
  {
   "cell_type": "code",
   "execution_count": 15,
   "metadata": {
    "scrolled": true
   },
   "outputs": [
    {
     "name": "stdout",
     "output_type": "stream",
     "text": [
      "[1]\tvalid_0's binary_logloss: 0.429279\tvalid_0's f1: 0\n",
      "Training until validation scores don't improve for 100 rounds\n",
      "[2]\tvalid_0's binary_logloss: 0.409421\tvalid_0's f1: 0\n",
      "[3]\tvalid_0's binary_logloss: 0.392373\tvalid_0's f1: 0\n",
      "[4]\tvalid_0's binary_logloss: 0.377027\tvalid_0's f1: 0\n",
      "[5]\tvalid_0's binary_logloss: 0.363244\tvalid_0's f1: 0\n",
      "[6]\tvalid_0's binary_logloss: 0.35088\tvalid_0's f1: 0\n",
      "[7]\tvalid_0's binary_logloss: 0.3455\tvalid_0's f1: 0\n",
      "[8]\tvalid_0's binary_logloss: 0.339504\tvalid_0's f1: 0\n",
      "[9]\tvalid_0's binary_logloss: 0.333782\tvalid_0's f1: 0\n",
      "[10]\tvalid_0's binary_logloss: 0.323634\tvalid_0's f1: 0\n",
      "[11]\tvalid_0's binary_logloss: 0.31423\tvalid_0's f1: 0\n",
      "[12]\tvalid_0's binary_logloss: 0.30555\tvalid_0's f1: 0\n",
      "[13]\tvalid_0's binary_logloss: 0.297323\tvalid_0's f1: 0\n",
      "[14]\tvalid_0's binary_logloss: 0.29326\tvalid_0's f1: 0\n",
      "[15]\tvalid_0's binary_logloss: 0.285803\tvalid_0's f1: 0\n",
      "[16]\tvalid_0's binary_logloss: 0.278928\tvalid_0's f1: 0.0279965\n",
      "[17]\tvalid_0's binary_logloss: 0.272355\tvalid_0's f1: 0.245914\n",
      "[18]\tvalid_0's binary_logloss: 0.266166\tvalid_0's f1: 0.359534\n",
      "[19]\tvalid_0's binary_logloss: 0.260298\tvalid_0's f1: 0.462168\n",
      "[20]\tvalid_0's binary_logloss: 0.254744\tvalid_0's f1: 0.582915\n",
      "[21]\tvalid_0's binary_logloss: 0.249516\tvalid_0's f1: 0.654741\n",
      "[22]\tvalid_0's binary_logloss: 0.244501\tvalid_0's f1: 0.676436\n",
      "[23]\tvalid_0's binary_logloss: 0.23985\tvalid_0's f1: 0.691329\n",
      "[24]\tvalid_0's binary_logloss: 0.235354\tvalid_0's f1: 0.713961\n",
      "[25]\tvalid_0's binary_logloss: 0.231159\tvalid_0's f1: 0.743363\n",
      "[26]\tvalid_0's binary_logloss: 0.227085\tvalid_0's f1: 0.764642\n",
      "[27]\tvalid_0's binary_logloss: 0.224832\tvalid_0's f1: 0.766901\n",
      "[28]\tvalid_0's binary_logloss: 0.221018\tvalid_0's f1: 0.777956\n",
      "[29]\tvalid_0's binary_logloss: 0.217366\tvalid_0's f1: 0.783395\n",
      "[30]\tvalid_0's binary_logloss: 0.213901\tvalid_0's f1: 0.785374\n",
      "[31]\tvalid_0's binary_logloss: 0.212208\tvalid_0's f1: 0.788167\n",
      "[32]\tvalid_0's binary_logloss: 0.209001\tvalid_0's f1: 0.792632\n",
      "[33]\tvalid_0's binary_logloss: 0.207595\tvalid_0's f1: 0.79285\n",
      "[34]\tvalid_0's binary_logloss: 0.204563\tvalid_0's f1: 0.794549\n",
      "[35]\tvalid_0's binary_logloss: 0.201629\tvalid_0's f1: 0.798749\n",
      "[36]\tvalid_0's binary_logloss: 0.19879\tvalid_0's f1: 0.802693\n",
      "[37]\tvalid_0's binary_logloss: 0.196121\tvalid_0's f1: 0.806385\n",
      "[38]\tvalid_0's binary_logloss: 0.193545\tvalid_0's f1: 0.80862\n",
      "[39]\tvalid_0's binary_logloss: 0.191104\tvalid_0's f1: 0.810838\n",
      "[40]\tvalid_0's binary_logloss: 0.189958\tvalid_0's f1: 0.809816\n",
      "[41]\tvalid_0's binary_logloss: 0.187583\tvalid_0's f1: 0.813041\n",
      "[42]\tvalid_0's binary_logloss: 0.185342\tvalid_0's f1: 0.816057\n",
      "[43]\tvalid_0's binary_logloss: 0.183184\tvalid_0's f1: 0.81703\n",
      "[44]\tvalid_0's binary_logloss: 0.181138\tvalid_0's f1: 0.817585\n",
      "[45]\tvalid_0's binary_logloss: 0.179155\tvalid_0's f1: 0.819374\n",
      "[46]\tvalid_0's binary_logloss: 0.17722\tvalid_0's f1: 0.819326\n",
      "[47]\tvalid_0's binary_logloss: 0.175319\tvalid_0's f1: 0.822055\n",
      "[48]\tvalid_0's binary_logloss: 0.174286\tvalid_0's f1: 0.825\n",
      "[49]\tvalid_0's binary_logloss: 0.172586\tvalid_0's f1: 0.82676\n",
      "[50]\tvalid_0's binary_logloss: 0.170889\tvalid_0's f1: 0.82676\n",
      "[51]\tvalid_0's binary_logloss: 0.169227\tvalid_0's f1: 0.828685\n",
      "[52]\tvalid_0's binary_logloss: 0.168317\tvalid_0's f1: 0.829438\n",
      "[53]\tvalid_0's binary_logloss: 0.16674\tvalid_0's f1: 0.832341\n",
      "[54]\tvalid_0's binary_logloss: 0.165273\tvalid_0's f1: 0.834076\n",
      "[55]\tvalid_0's binary_logloss: 0.163865\tvalid_0's f1: 0.833992\n",
      "[56]\tvalid_0's binary_logloss: 0.162533\tvalid_0's f1: 0.834568\n",
      "[57]\tvalid_0's binary_logloss: 0.161251\tvalid_0's f1: 0.835718\n",
      "[58]\tvalid_0's binary_logloss: 0.159943\tvalid_0's f1: 0.83588\n",
      "[59]\tvalid_0's binary_logloss: 0.15932\tvalid_0's f1: 0.837026\n",
      "[60]\tvalid_0's binary_logloss: 0.158075\tvalid_0's f1: 0.836364\n",
      "[61]\tvalid_0's binary_logloss: 0.156915\tvalid_0's f1: 0.836524\n",
      "[62]\tvalid_0's binary_logloss: 0.155796\tvalid_0's f1: 0.836685\n",
      "[63]\tvalid_0's binary_logloss: 0.154715\tvalid_0's f1: 0.838962\n",
      "[64]\tvalid_0's binary_logloss: 0.153602\tvalid_0's f1: 0.83871\n",
      "[65]\tvalid_0's binary_logloss: 0.152614\tvalid_0's f1: 0.839434\n",
      "[66]\tvalid_0's binary_logloss: 0.152066\tvalid_0's f1: 0.8383\n",
      "[67]\tvalid_0's binary_logloss: 0.15148\tvalid_0's f1: 0.83959\n",
      "[68]\tvalid_0's binary_logloss: 0.150517\tvalid_0's f1: 0.839747\n",
      "[69]\tvalid_0's binary_logloss: 0.1496\tvalid_0's f1: 0.840876\n",
      "[70]\tvalid_0's binary_logloss: 0.148762\tvalid_0's f1: 0.84144\n",
      "[71]\tvalid_0's binary_logloss: 0.147917\tvalid_0's f1: 0.842566\n",
      "[72]\tvalid_0's binary_logloss: 0.147126\tvalid_0's f1: 0.84328\n",
      "[73]\tvalid_0's binary_logloss: 0.146359\tvalid_0's f1: 0.84328\n",
      "[74]\tvalid_0's binary_logloss: 0.145601\tvalid_0's f1: 0.843992\n",
      "[75]\tvalid_0's binary_logloss: 0.144888\tvalid_0's f1: 0.843992\n",
      "[76]\tvalid_0's binary_logloss: 0.144181\tvalid_0's f1: 0.843992\n",
      "[77]\tvalid_0's binary_logloss: 0.143484\tvalid_0's f1: 0.843023\n",
      "[78]\tvalid_0's binary_logloss: 0.142886\tvalid_0's f1: 0.844143\n",
      "[79]\tvalid_0's binary_logloss: 0.142266\tvalid_0's f1: 0.844853\n",
      "[80]\tvalid_0's binary_logloss: 0.141609\tvalid_0's f1: 0.844853\n",
      "[81]\tvalid_0's binary_logloss: 0.141018\tvalid_0's f1: 0.846525\n",
      "[82]\tvalid_0's binary_logloss: 0.140524\tvalid_0's f1: 0.846525\n",
      "[83]\tvalid_0's binary_logloss: 0.140009\tvalid_0's f1: 0.846673\n",
      "[84]\tvalid_0's binary_logloss: 0.139497\tvalid_0's f1: 0.846117\n",
      "[85]\tvalid_0's binary_logloss: 0.138981\tvalid_0's f1: 0.846117\n",
      "[86]\tvalid_0's binary_logloss: 0.138476\tvalid_0's f1: 0.847376\n",
      "[87]\tvalid_0's binary_logloss: 0.138006\tvalid_0's f1: 0.847376\n",
      "[88]\tvalid_0's binary_logloss: 0.13774\tvalid_0's f1: 0.846968\n",
      "[89]\tvalid_0's binary_logloss: 0.137512\tvalid_0's f1: 0.846968\n",
      "[90]\tvalid_0's binary_logloss: 0.137083\tvalid_0's f1: 0.846968\n",
      "[91]\tvalid_0's binary_logloss: 0.136875\tvalid_0's f1: 0.846968\n",
      "[92]\tvalid_0's binary_logloss: 0.136451\tvalid_0's f1: 0.846968\n",
      "[93]\tvalid_0's binary_logloss: 0.136061\tvalid_0's f1: 0.847523\n",
      "[94]\tvalid_0's binary_logloss: 0.135653\tvalid_0's f1: 0.847523\n",
      "[95]\tvalid_0's binary_logloss: 0.135285\tvalid_0's f1: 0.847115\n",
      "[96]\tvalid_0's binary_logloss: 0.13509\tvalid_0's f1: 0.847115\n",
      "[97]\tvalid_0's binary_logloss: 0.134757\tvalid_0's f1: 0.847262\n",
      "[98]\tvalid_0's binary_logloss: 0.134459\tvalid_0's f1: 0.846449\n",
      "[99]\tvalid_0's binary_logloss: 0.134101\tvalid_0's f1: 0.847262\n",
      "[100]\tvalid_0's binary_logloss: 0.133798\tvalid_0's f1: 0.847409\n",
      "[101]\tvalid_0's binary_logloss: 0.133498\tvalid_0's f1: 0.846596\n",
      "[102]\tvalid_0's binary_logloss: 0.1332\tvalid_0's f1: 0.846596\n",
      "[103]\tvalid_0's binary_logloss: 0.132957\tvalid_0's f1: 0.846596\n",
      "[104]\tvalid_0's binary_logloss: 0.132678\tvalid_0's f1: 0.846596\n",
      "[105]\tvalid_0's binary_logloss: 0.13241\tvalid_0's f1: 0.847555\n",
      "[106]\tvalid_0's binary_logloss: 0.132119\tvalid_0's f1: 0.847149\n",
      "[107]\tvalid_0's binary_logloss: 0.131967\tvalid_0's f1: 0.847149\n",
      "[108]\tvalid_0's binary_logloss: 0.131746\tvalid_0's f1: 0.847149\n",
      "[109]\tvalid_0's binary_logloss: 0.131518\tvalid_0's f1: 0.847149\n",
      "[110]\tvalid_0's binary_logloss: 0.13132\tvalid_0's f1: 0.847701\n",
      "[111]\tvalid_0's binary_logloss: 0.131195\tvalid_0's f1: 0.848253\n",
      "[112]\tvalid_0's binary_logloss: 0.131091\tvalid_0's f1: 0.847847\n",
      "[113]\tvalid_0's binary_logloss: 0.130876\tvalid_0's f1: 0.848398\n",
      "[114]\tvalid_0's binary_logloss: 0.13069\tvalid_0's f1: 0.848804\n",
      "[115]\tvalid_0's binary_logloss: 0.130409\tvalid_0's f1: 0.848948\n",
      "[116]\tvalid_0's binary_logloss: 0.130146\tvalid_0's f1: 0.848804\n",
      "[117]\tvalid_0's binary_logloss: 0.129919\tvalid_0's f1: 0.848398\n",
      "[118]\tvalid_0's binary_logloss: 0.129695\tvalid_0's f1: 0.848253\n",
      "[119]\tvalid_0's binary_logloss: 0.129512\tvalid_0's f1: 0.847587\n",
      "[120]\tvalid_0's binary_logloss: 0.12929\tvalid_0's f1: 0.848543\n",
      "[121]\tvalid_0's binary_logloss: 0.129117\tvalid_0's f1: 0.848138\n",
      "[122]\tvalid_0's binary_logloss: 0.128959\tvalid_0's f1: 0.847733\n",
      "[123]\tvalid_0's binary_logloss: 0.128803\tvalid_0's f1: 0.847328\n",
      "[124]\tvalid_0's binary_logloss: 0.128617\tvalid_0's f1: 0.848832\n",
      "[125]\tvalid_0's binary_logloss: 0.128456\tvalid_0's f1: 0.848832\n",
      "[126]\tvalid_0's binary_logloss: 0.128257\tvalid_0's f1: 0.848832\n",
      "[127]\tvalid_0's binary_logloss: 0.128106\tvalid_0's f1: 0.848832\n",
      "[128]\tvalid_0's binary_logloss: 0.127967\tvalid_0's f1: 0.848427\n",
      "[129]\tvalid_0's binary_logloss: 0.127865\tvalid_0's f1: 0.849237\n",
      "[130]\tvalid_0's binary_logloss: 0.127768\tvalid_0's f1: 0.849929\n",
      "[131]\tvalid_0's binary_logloss: 0.127607\tvalid_0's f1: 0.849929\n",
      "[132]\tvalid_0's binary_logloss: 0.127527\tvalid_0's f1: 0.848976\n",
      "[133]\tvalid_0's binary_logloss: 0.127412\tvalid_0's f1: 0.848976\n",
      "[134]\tvalid_0's binary_logloss: 0.127283\tvalid_0's f1: 0.848976\n",
      "[135]\tvalid_0's binary_logloss: 0.1272\tvalid_0's f1: 0.849929\n",
      "[136]\tvalid_0's binary_logloss: 0.127104\tvalid_0's f1: 0.849524\n",
      "[137]\tvalid_0's binary_logloss: 0.127001\tvalid_0's f1: 0.849929\n",
      "[138]\tvalid_0's binary_logloss: 0.126875\tvalid_0's f1: 0.849929\n"
     ]
    },
    {
     "name": "stdout",
     "output_type": "stream",
     "text": [
      "[139]\tvalid_0's binary_logloss: 0.126778\tvalid_0's f1: 0.849929\n",
      "[140]\tvalid_0's binary_logloss: 0.126689\tvalid_0's f1: 0.849929\n",
      "[141]\tvalid_0's binary_logloss: 0.126566\tvalid_0's f1: 0.850476\n",
      "[142]\tvalid_0's binary_logloss: 0.126446\tvalid_0's f1: 0.850476\n",
      "[143]\tvalid_0's binary_logloss: 0.12635\tvalid_0's f1: 0.850071\n",
      "[144]\tvalid_0's binary_logloss: 0.12628\tvalid_0's f1: 0.849667\n",
      "[145]\tvalid_0's binary_logloss: 0.126204\tvalid_0's f1: 0.849667\n",
      "[146]\tvalid_0's binary_logloss: 0.126116\tvalid_0's f1: 0.849667\n",
      "[147]\tvalid_0's binary_logloss: 0.126054\tvalid_0's f1: 0.849667\n",
      "[148]\tvalid_0's binary_logloss: 0.125999\tvalid_0's f1: 0.850214\n",
      "[149]\tvalid_0's binary_logloss: 0.125905\tvalid_0's f1: 0.850214\n",
      "[150]\tvalid_0's binary_logloss: 0.125794\tvalid_0's f1: 0.850214\n",
      "[151]\tvalid_0's binary_logloss: 0.125696\tvalid_0's f1: 0.84981\n",
      "[152]\tvalid_0's binary_logloss: 0.125622\tvalid_0's f1: 0.84981\n",
      "[153]\tvalid_0's binary_logloss: 0.125574\tvalid_0's f1: 0.849549\n",
      "[154]\tvalid_0's binary_logloss: 0.125543\tvalid_0's f1: 0.849953\n",
      "[155]\tvalid_0's binary_logloss: 0.125471\tvalid_0's f1: 0.850498\n",
      "[156]\tvalid_0's binary_logloss: 0.125419\tvalid_0's f1: 0.850498\n",
      "[157]\tvalid_0's binary_logloss: 0.125341\tvalid_0's f1: 0.850498\n",
      "[158]\tvalid_0's binary_logloss: 0.12529\tvalid_0's f1: 0.85064\n",
      "[159]\tvalid_0's binary_logloss: 0.125212\tvalid_0's f1: 0.85064\n",
      "[160]\tvalid_0's binary_logloss: 0.12516\tvalid_0's f1: 0.850095\n",
      "[161]\tvalid_0's binary_logloss: 0.125095\tvalid_0's f1: 0.849692\n",
      "[162]\tvalid_0's binary_logloss: 0.125088\tvalid_0's f1: 0.85064\n",
      "[163]\tvalid_0's binary_logloss: 0.125096\tvalid_0's f1: 0.851185\n",
      "[164]\tvalid_0's binary_logloss: 0.125084\tvalid_0's f1: 0.851729\n",
      "[165]\tvalid_0's binary_logloss: 0.125055\tvalid_0's f1: 0.851729\n",
      "[166]\tvalid_0's binary_logloss: 0.125016\tvalid_0's f1: 0.852133\n",
      "[167]\tvalid_0's binary_logloss: 0.124973\tvalid_0's f1: 0.851729\n",
      "[168]\tvalid_0's binary_logloss: 0.124928\tvalid_0's f1: 0.851729\n",
      "[169]\tvalid_0's binary_logloss: 0.12489\tvalid_0's f1: 0.851326\n",
      "[170]\tvalid_0's binary_logloss: 0.124844\tvalid_0's f1: 0.851326\n",
      "[171]\tvalid_0's binary_logloss: 0.124816\tvalid_0's f1: 0.851729\n",
      "[172]\tvalid_0's binary_logloss: 0.124767\tvalid_0's f1: 0.851326\n",
      "[173]\tvalid_0's binary_logloss: 0.124729\tvalid_0's f1: 0.851729\n",
      "[174]\tvalid_0's binary_logloss: 0.124712\tvalid_0's f1: 0.851326\n",
      "[175]\tvalid_0's binary_logloss: 0.124697\tvalid_0's f1: 0.851326\n",
      "[176]\tvalid_0's binary_logloss: 0.124657\tvalid_0's f1: 0.851326\n",
      "[177]\tvalid_0's binary_logloss: 0.12463\tvalid_0's f1: 0.851326\n",
      "[178]\tvalid_0's binary_logloss: 0.124607\tvalid_0's f1: 0.852133\n",
      "[179]\tvalid_0's binary_logloss: 0.124522\tvalid_0's f1: 0.852133\n",
      "[180]\tvalid_0's binary_logloss: 0.124485\tvalid_0's f1: 0.851729\n",
      "[181]\tvalid_0's binary_logloss: 0.124486\tvalid_0's f1: 0.849976\n",
      "[182]\tvalid_0's binary_logloss: 0.124468\tvalid_0's f1: 0.849976\n",
      "[183]\tvalid_0's binary_logloss: 0.124415\tvalid_0's f1: 0.849976\n",
      "[184]\tvalid_0's binary_logloss: 0.124366\tvalid_0's f1: 0.849976\n",
      "[185]\tvalid_0's binary_logloss: 0.1243\tvalid_0's f1: 0.849574\n",
      "[186]\tvalid_0's binary_logloss: 0.124258\tvalid_0's f1: 0.849574\n",
      "[187]\tvalid_0's binary_logloss: 0.124257\tvalid_0's f1: 0.849574\n",
      "[188]\tvalid_0's binary_logloss: 0.124226\tvalid_0's f1: 0.849574\n",
      "[189]\tvalid_0's binary_logloss: 0.124184\tvalid_0's f1: 0.85052\n",
      "[190]\tvalid_0's binary_logloss: 0.124189\tvalid_0's f1: 0.849173\n",
      "[191]\tvalid_0's binary_logloss: 0.124168\tvalid_0's f1: 0.849716\n",
      "[192]\tvalid_0's binary_logloss: 0.124144\tvalid_0's f1: 0.849173\n",
      "[193]\tvalid_0's binary_logloss: 0.124113\tvalid_0's f1: 0.849173\n",
      "[194]\tvalid_0's binary_logloss: 0.124076\tvalid_0's f1: 0.849315\n",
      "[195]\tvalid_0's binary_logloss: 0.124042\tvalid_0's f1: 0.849716\n",
      "[196]\tvalid_0's binary_logloss: 0.124042\tvalid_0's f1: 0.849315\n",
      "[197]\tvalid_0's binary_logloss: 0.123996\tvalid_0's f1: 0.849315\n",
      "[198]\tvalid_0's binary_logloss: 0.123964\tvalid_0's f1: 0.849858\n",
      "[199]\tvalid_0's binary_logloss: 0.123963\tvalid_0's f1: 0.849315\n",
      "[200]\tvalid_0's binary_logloss: 0.123943\tvalid_0's f1: 0.848914\n",
      "[201]\tvalid_0's binary_logloss: 0.123895\tvalid_0's f1: 0.848914\n",
      "[202]\tvalid_0's binary_logloss: 0.123876\tvalid_0's f1: 0.848914\n",
      "[203]\tvalid_0's binary_logloss: 0.123903\tvalid_0's f1: 0.848914\n",
      "[204]\tvalid_0's binary_logloss: 0.123888\tvalid_0's f1: 0.848914\n",
      "[205]\tvalid_0's binary_logloss: 0.123838\tvalid_0's f1: 0.848914\n",
      "[206]\tvalid_0's binary_logloss: 0.123853\tvalid_0's f1: 0.848914\n",
      "[207]\tvalid_0's binary_logloss: 0.123861\tvalid_0's f1: 0.849315\n",
      "[208]\tvalid_0's binary_logloss: 0.123836\tvalid_0's f1: 0.849315\n",
      "[209]\tvalid_0's binary_logloss: 0.123807\tvalid_0's f1: 0.849315\n",
      "[210]\tvalid_0's binary_logloss: 0.123749\tvalid_0's f1: 0.849315\n",
      "[211]\tvalid_0's binary_logloss: 0.12377\tvalid_0's f1: 0.849315\n",
      "[212]\tvalid_0's binary_logloss: 0.123732\tvalid_0's f1: 0.849315\n",
      "[213]\tvalid_0's binary_logloss: 0.123725\tvalid_0's f1: 0.849315\n",
      "[214]\tvalid_0's binary_logloss: 0.123746\tvalid_0's f1: 0.849315\n",
      "[215]\tvalid_0's binary_logloss: 0.123776\tvalid_0's f1: 0.849315\n",
      "[216]\tvalid_0's binary_logloss: 0.123788\tvalid_0's f1: 0.849716\n",
      "[217]\tvalid_0's binary_logloss: 0.12379\tvalid_0's f1: 0.849716\n",
      "[218]\tvalid_0's binary_logloss: 0.123781\tvalid_0's f1: 0.849173\n",
      "[219]\tvalid_0's binary_logloss: 0.123766\tvalid_0's f1: 0.849173\n",
      "[220]\tvalid_0's binary_logloss: 0.123738\tvalid_0's f1: 0.849173\n",
      "[221]\tvalid_0's binary_logloss: 0.123695\tvalid_0's f1: 0.849173\n",
      "[222]\tvalid_0's binary_logloss: 0.12366\tvalid_0's f1: 0.848771\n",
      "[223]\tvalid_0's binary_logloss: 0.123618\tvalid_0's f1: 0.848771\n",
      "[224]\tvalid_0's binary_logloss: 0.123592\tvalid_0's f1: 0.849173\n",
      "[225]\tvalid_0's binary_logloss: 0.123548\tvalid_0's f1: 0.849173\n",
      "[226]\tvalid_0's binary_logloss: 0.123564\tvalid_0's f1: 0.849173\n",
      "[227]\tvalid_0's binary_logloss: 0.123531\tvalid_0's f1: 0.849173\n",
      "[228]\tvalid_0's binary_logloss: 0.123546\tvalid_0's f1: 0.848628\n",
      "[229]\tvalid_0's binary_logloss: 0.123506\tvalid_0's f1: 0.848628\n",
      "[230]\tvalid_0's binary_logloss: 0.123493\tvalid_0's f1: 0.848628\n",
      "[231]\tvalid_0's binary_logloss: 0.123468\tvalid_0's f1: 0.848628\n",
      "[232]\tvalid_0's binary_logloss: 0.123462\tvalid_0's f1: 0.848628\n",
      "[233]\tvalid_0's binary_logloss: 0.123448\tvalid_0's f1: 0.848628\n",
      "[234]\tvalid_0's binary_logloss: 0.123461\tvalid_0's f1: 0.848083\n",
      "[235]\tvalid_0's binary_logloss: 0.123448\tvalid_0's f1: 0.848083\n",
      "[236]\tvalid_0's binary_logloss: 0.12343\tvalid_0's f1: 0.848083\n",
      "[237]\tvalid_0's binary_logloss: 0.123424\tvalid_0's f1: 0.848083\n",
      "[238]\tvalid_0's binary_logloss: 0.123419\tvalid_0's f1: 0.848083\n",
      "[239]\tvalid_0's binary_logloss: 0.123388\tvalid_0's f1: 0.848083\n",
      "[240]\tvalid_0's binary_logloss: 0.123398\tvalid_0's f1: 0.848628\n",
      "[241]\tvalid_0's binary_logloss: 0.123379\tvalid_0's f1: 0.848227\n",
      "[242]\tvalid_0's binary_logloss: 0.123373\tvalid_0's f1: 0.848227\n",
      "[243]\tvalid_0's binary_logloss: 0.123366\tvalid_0's f1: 0.848227\n",
      "[244]\tvalid_0's binary_logloss: 0.123357\tvalid_0's f1: 0.848771\n",
      "[245]\tvalid_0's binary_logloss: 0.123332\tvalid_0's f1: 0.848771\n",
      "[246]\tvalid_0's binary_logloss: 0.123297\tvalid_0's f1: 0.848771\n",
      "[247]\tvalid_0's binary_logloss: 0.123301\tvalid_0's f1: 0.848771\n",
      "[248]\tvalid_0's binary_logloss: 0.123341\tvalid_0's f1: 0.848771\n",
      "[249]\tvalid_0's binary_logloss: 0.123343\tvalid_0's f1: 0.849315\n",
      "[250]\tvalid_0's binary_logloss: 0.123335\tvalid_0's f1: 0.849315\n",
      "[251]\tvalid_0's binary_logloss: 0.123329\tvalid_0's f1: 0.848771\n",
      "[252]\tvalid_0's binary_logloss: 0.12327\tvalid_0's f1: 0.849315\n",
      "[253]\tvalid_0's binary_logloss: 0.123246\tvalid_0's f1: 0.849315\n",
      "[254]\tvalid_0's binary_logloss: 0.12323\tvalid_0's f1: 0.848513\n",
      "[255]\tvalid_0's binary_logloss: 0.123235\tvalid_0's f1: 0.849315\n",
      "[256]\tvalid_0's binary_logloss: 0.123203\tvalid_0's f1: 0.849315\n",
      "[257]\tvalid_0's binary_logloss: 0.123183\tvalid_0's f1: 0.849315\n",
      "[258]\tvalid_0's binary_logloss: 0.123181\tvalid_0's f1: 0.849315\n",
      "[259]\tvalid_0's binary_logloss: 0.123181\tvalid_0's f1: 0.848914\n",
      "[260]\tvalid_0's binary_logloss: 0.123197\tvalid_0's f1: 0.848914\n",
      "[261]\tvalid_0's binary_logloss: 0.1232\tvalid_0's f1: 0.848914\n",
      "[262]\tvalid_0's binary_logloss: 0.123175\tvalid_0's f1: 0.848513\n",
      "[263]\tvalid_0's binary_logloss: 0.123122\tvalid_0's f1: 0.849457\n",
      "[264]\tvalid_0's binary_logloss: 0.123098\tvalid_0's f1: 0.849457\n",
      "[265]\tvalid_0's binary_logloss: 0.123097\tvalid_0's f1: 0.849457\n",
      "[266]\tvalid_0's binary_logloss: 0.123096\tvalid_0's f1: 0.849457\n",
      "Early stopping, best iteration is:\n",
      "[166]\tvalid_0's binary_logloss: 0.125016\tvalid_0's f1: 0.852133\n"
     ]
    }
   ],
   "source": [
    "model=lgb_model_for_offline_test(train,train_label,valid,valid_label)"
   ]
  },
  {
   "cell_type": "code",
   "execution_count": 16,
   "metadata": {},
   "outputs": [],
   "source": [
    "from utils import submission"
   ]
  },
  {
   "cell_type": "code",
   "execution_count": 17,
   "metadata": {},
   "outputs": [
    {
     "name": "stderr",
     "output_type": "stream",
     "text": [
      "..\\utils.py:21: SettingWithCopyWarning: \n",
      "A value is trying to be set on a copy of a slice from a DataFrame.\n",
      "Try using .loc[row_indexer,col_indexer] = value instead\n",
      "\n",
      "See the caveats in the documentation: https://pandas.pydata.org/pandas-docs/stable/user_guide/indexing.html#returning-a-view-versus-a-copy\n",
      "  data[\"预测打分\"] = model.predict(data[data.columns[:-3]].values)\n"
     ]
    }
   ],
   "source": [
    "path2=path0+'/result/'\n",
    "name ='baseline_offline_2'\n",
    "submission(path2,model,valid0,name)"
   ]
  },
  {
   "cell_type": "markdown",
   "metadata": {},
   "source": [
    "## online"
   ]
  },
  {
   "cell_type": "code",
   "execution_count": 18,
   "metadata": {},
   "outputs": [],
   "source": [
    "# online\n",
    "data=pd.concat([train_data,valid_data])\n",
    "train=get_k_fold_data(data,person,intent_table,job_table,project_history_table,work_history_table,candidate_data,job_data)\n",
    "test = get_data(test_data, train,person,intent_table,job_table,project_history_table,work_history_table,candidate_data,job_data)\n",
    "temp_data= pd.concat([train, test], ignore_index=True)\n",
    "data_all_feature=feature_process(temp_data)\n",
    "\n",
    "#train,train_label,valid,valid_label\n",
    "train0 = data_all_feature[:train.shape[0]]#.标签.value_counts()\n",
    "test0 = data_all_feature[train.shape[0]:]\n",
    "train_label = train0[train0.columns[-1]]\n",
    "train=train0[train0.columns[:-3]]\n",
    "\n",
    "model = lgb_model_for_upload(train, train_label)\n",
    "\n",
    "\n",
    "path2=path0+'/result/'\n",
    "name ='baseline_online_v2'\n",
    "submission(path2,model,test0,name)"
   ]
  },
  {
   "cell_type": "code",
   "execution_count": null,
   "metadata": {},
   "outputs": [],
   "source": []
  }
 ],
 "metadata": {
  "kernelspec": {
   "display_name": "Python 3",
   "language": "python",
   "name": "python3"
  },
  "language_info": {
   "codemirror_mode": {
    "name": "ipython",
    "version": 3
   },
   "file_extension": ".py",
   "mimetype": "text/x-python",
   "name": "python",
   "nbconvert_exporter": "python",
   "pygments_lexer": "ipython3",
   "version": "3.6.1"
  }
 },
 "nbformat": 4,
 "nbformat_minor": 4
}
